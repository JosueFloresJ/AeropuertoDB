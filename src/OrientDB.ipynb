{
 "cells": [
  {
   "cell_type": "code",
   "execution_count": 17,
   "id": "4265b91b",
   "metadata": {},
   "outputs": [
    {
     "name": "stdout",
     "output_type": "stream",
     "text": [
      "Collecting git+https://github.com/OpenConjecture/pyorient.git\n",
      "  Cloning https://github.com/OpenConjecture/pyorient.git to /private/var/folders/5c/4n982b9s0svctvnqygs9sbxh0000gn/T/pip-req-build-9vbovzwt\n",
      "  Running command git clone --filter=blob:none --quiet https://github.com/OpenConjecture/pyorient.git /private/var/folders/5c/4n982b9s0svctvnqygs9sbxh0000gn/T/pip-req-build-9vbovzwt\n",
      "  Resolved https://github.com/OpenConjecture/pyorient.git to commit c41c3b615fad09ea9dc71b802339c865d5cdce14\n",
      "  Preparing metadata (setup.py) ... \u001b[?25ldone\n",
      "\u001b[?25hBuilding wheels for collected packages: pyorient\n",
      "  Building wheel for pyorient (setup.py) ... \u001b[?25ldone\n",
      "\u001b[?25h  Created wheel for pyorient: filename=pyorient-1.5.5-py3-none-any.whl size=83239 sha256=3c4501c718b74297d17d31b0213352956515cee15a73ffc1f2a78d4cbc34a4c5\n",
      "  Stored in directory: /private/var/folders/5c/4n982b9s0svctvnqygs9sbxh0000gn/T/pip-ephem-wheel-cache-2z4t75rr/wheels/3f/dd/1c/7382ed6d7620fea508cd831fada5b14f804ed0fb5cdaa89b34\n",
      "Successfully built pyorient\n",
      "Installing collected packages: pyorient\n",
      "Successfully installed pyorient-1.5.5\n",
      "Note: you may need to restart the kernel to use updated packages.\n"
     ]
    }
   ],
   "source": [
    "#%pip install --upgrade git+https://github.com/OpenConjecture/pyorient.git"
   ]
  },
  {
   "cell_type": "code",
   "execution_count": 1,
   "id": "07af0a48",
   "metadata": {},
   "outputs": [],
   "source": [
    "import pandas as pd\n",
    "import pyorient #La libreria está muy vieja por lo cual puede tener errores, no se actualiza desde hace 6 años "
   ]
  },
  {
   "cell_type": "code",
   "execution_count": null,
   "id": "3face973",
   "metadata": {},
   "outputs": [],
   "source": []
  },
  {
   "cell_type": "code",
   "execution_count": 4,
   "id": "db72de94",
   "metadata": {},
   "outputs": [
    {
     "data": {
      "text/plain": [
       "[<pyorient.otypes.OrientCluster at 0x1065f2250>,\n",
       " <pyorient.otypes.OrientCluster at 0x10681e590>,\n",
       " <pyorient.otypes.OrientCluster at 0x1065ab350>,\n",
       " <pyorient.otypes.OrientCluster at 0x10658e850>,\n",
       " <pyorient.otypes.OrientCluster at 0x106839ed0>,\n",
       " <pyorient.otypes.OrientCluster at 0x10683d710>,\n",
       " <pyorient.otypes.OrientCluster at 0x10683d6d0>,\n",
       " <pyorient.otypes.OrientCluster at 0x10683d790>,\n",
       " <pyorient.otypes.OrientCluster at 0x10683e190>,\n",
       " <pyorient.otypes.OrientCluster at 0x106839f50>,\n",
       " <pyorient.otypes.OrientCluster at 0x10683d890>,\n",
       " <pyorient.otypes.OrientCluster at 0x10683d690>,\n",
       " <pyorient.otypes.OrientCluster at 0x10683f150>,\n",
       " <pyorient.otypes.OrientCluster at 0x10683f0d0>,\n",
       " <pyorient.otypes.OrientCluster at 0x10683f110>,\n",
       " <pyorient.otypes.OrientCluster at 0x10683efd0>,\n",
       " <pyorient.otypes.OrientCluster at 0x10683f010>,\n",
       " <pyorient.otypes.OrientCluster at 0x10683f050>,\n",
       " <pyorient.otypes.OrientCluster at 0x10683e850>,\n",
       " <pyorient.otypes.OrientCluster at 0x10683ea50>,\n",
       " <pyorient.otypes.OrientCluster at 0x10683f190>,\n",
       " <pyorient.otypes.OrientCluster at 0x10683f1d0>,\n",
       " <pyorient.otypes.OrientCluster at 0x10683f210>,\n",
       " <pyorient.otypes.OrientCluster at 0x10683f250>,\n",
       " <pyorient.otypes.OrientCluster at 0x10683f2d0>,\n",
       " <pyorient.otypes.OrientCluster at 0x10683f310>,\n",
       " <pyorient.otypes.OrientCluster at 0x10683f350>,\n",
       " <pyorient.otypes.OrientCluster at 0x10683f390>,\n",
       " <pyorient.otypes.OrientCluster at 0x10683f3d0>,\n",
       " <pyorient.otypes.OrientCluster at 0x10683f410>,\n",
       " <pyorient.otypes.OrientCluster at 0x10683f450>,\n",
       " <pyorient.otypes.OrientCluster at 0x10683f490>,\n",
       " <pyorient.otypes.OrientCluster at 0x10683f4d0>,\n",
       " <pyorient.otypes.OrientCluster at 0x10683f510>]"
      ]
     },
     "execution_count": 4,
     "metadata": {},
     "output_type": "execute_result"
    }
   ],
   "source": [
    "#Nos conectamos al serv\n",
    "client = pyorient.OrientDB(\"localhost\", 2424)\n",
    "client.set_session_token( True )  # set true to enable the token based\n",
    "client.db_open( \"Aero\", \"root\", \"root\" )"
   ]
  },
  {
   "cell_type": "code",
   "execution_count": 6,
   "id": "bf5cbf14",
   "metadata": {
    "collapsed": true
   },
   "outputs": [
    {
     "ename": "TimeoutError",
     "evalue": "timed out",
     "output_type": "error",
     "traceback": [
      "\u001b[0;31m---------------------------------------------------------------------------\u001b[0m",
      "\u001b[0;31mTimeoutError\u001b[0m                              Traceback (most recent call last)",
      "Cell \u001b[0;32mIn[6], line 1\u001b[0m\n\u001b[0;32m----> 1\u001b[0m client\u001b[38;5;241m.\u001b[39mcommand(\u001b[38;5;124m\"\u001b[39m\u001b[38;5;124mcreate class Aeropuertos extends V\u001b[39m\u001b[38;5;124m\"\u001b[39m)\n",
      "File \u001b[0;32m~/anaconda3/lib/python3.11/site-packages/pyorient/orient.py:464\u001b[0m, in \u001b[0;36mOrientDB.command\u001b[0;34m(self, *args)\u001b[0m\n\u001b[1;32m    462\u001b[0m \u001b[38;5;28;01mdef\u001b[39;00m \u001b[38;5;21mcommand\u001b[39m(\u001b[38;5;28mself\u001b[39m, \u001b[38;5;241m*\u001b[39margs):\n\u001b[1;32m    463\u001b[0m     \u001b[38;5;28;01mreturn\u001b[39;00m \u001b[38;5;28mself\u001b[39m\u001b[38;5;241m.\u001b[39mget_message(\u001b[38;5;124m\"\u001b[39m\u001b[38;5;124mCommandMessage\u001b[39m\u001b[38;5;124m\"\u001b[39m) \\\n\u001b[0;32m--> 464\u001b[0m         \u001b[38;5;241m.\u001b[39mprepare(( QUERY_CMD, ) \u001b[38;5;241m+\u001b[39m args)\u001b[38;5;241m.\u001b[39msend()\u001b[38;5;241m.\u001b[39mfetch_response()\n",
      "File \u001b[0;32m~/anaconda3/lib/python3.11/site-packages/pyorient/messages/commands.py:144\u001b[0m, in \u001b[0;36mCommandMessage.fetch_response\u001b[0;34m(self)\u001b[0m\n\u001b[1;32m    141\u001b[0m     \u001b[38;5;28;01mreturn\u001b[39;00m \u001b[38;5;28mself\u001b[39m\n\u001b[1;32m    143\u001b[0m \u001b[38;5;66;03m# decode header only\u001b[39;00m\n\u001b[0;32m--> 144\u001b[0m \u001b[38;5;28msuper\u001b[39m( CommandMessage, \u001b[38;5;28mself\u001b[39m )\u001b[38;5;241m.\u001b[39mfetch_response()\n\u001b[1;32m    146\u001b[0m \u001b[38;5;28;01mif\u001b[39;00m \u001b[38;5;28mself\u001b[39m\u001b[38;5;241m.\u001b[39m_command_type \u001b[38;5;241m==\u001b[39m QUERY_ASYNC:\n\u001b[1;32m    147\u001b[0m     \u001b[38;5;28mself\u001b[39m\u001b[38;5;241m.\u001b[39m_read_async_records()\n",
      "File \u001b[0;32m~/anaconda3/lib/python3.11/site-packages/pyorient/messages/base.py:265\u001b[0m, in \u001b[0;36mBaseMessage.fetch_response\u001b[0;34m(self, *_continue)\u001b[0m\n\u001b[1;32m    263\u001b[0m \u001b[38;5;66;03m# already fetched, get last results as cache info\u001b[39;00m\n\u001b[1;32m    264\u001b[0m \u001b[38;5;28;01melif\u001b[39;00m \u001b[38;5;28mlen\u001b[39m(\u001b[38;5;28mself\u001b[39m\u001b[38;5;241m.\u001b[39m_body) \u001b[38;5;129;01mis\u001b[39;00m \u001b[38;5;241m0\u001b[39m:\n\u001b[0;32m--> 265\u001b[0m     \u001b[38;5;28mself\u001b[39m\u001b[38;5;241m.\u001b[39m_decode_all()\n\u001b[1;32m    266\u001b[0m     \u001b[38;5;28mself\u001b[39m\u001b[38;5;241m.\u001b[39mdump_streams()\n\u001b[1;32m    267\u001b[0m \u001b[38;5;28;01mreturn\u001b[39;00m \u001b[38;5;28mself\u001b[39m\u001b[38;5;241m.\u001b[39m_body\n",
      "File \u001b[0;32m~/anaconda3/lib/python3.11/site-packages/pyorient/messages/base.py:249\u001b[0m, in \u001b[0;36mBaseMessage._decode_all\u001b[0;34m(self)\u001b[0m\n\u001b[1;32m    248\u001b[0m \u001b[38;5;28;01mdef\u001b[39;00m \u001b[38;5;21m_decode_all\u001b[39m(\u001b[38;5;28mself\u001b[39m):\n\u001b[0;32m--> 249\u001b[0m     \u001b[38;5;28mself\u001b[39m\u001b[38;5;241m.\u001b[39m_decode_header()\n\u001b[1;32m    250\u001b[0m     \u001b[38;5;28mself\u001b[39m\u001b[38;5;241m.\u001b[39m_decode_body()\n",
      "File \u001b[0;32m~/anaconda3/lib/python3.11/site-packages/pyorient/messages/base.py:234\u001b[0m, in \u001b[0;36mBaseMessage._decode_header\u001b[0;34m(self)\u001b[0m\n\u001b[1;32m    226\u001b[0m \u001b[38;5;250m\u001b[39m\u001b[38;5;124;03m\"\"\"\u001b[39;00m\n\u001b[1;32m    227\u001b[0m \u001b[38;5;124;03m#  Token authentication handling\u001b[39;00m\n\u001b[1;32m    228\u001b[0m \u001b[38;5;124;03m#  we must recognize ConnectMessage and DbOpenMessage messages\u001b[39;00m\n\u001b[1;32m    229\u001b[0m \u001b[38;5;124;03m    TODO: change this check avoiding cross import,\u001b[39;00m\n\u001b[1;32m    230\u001b[0m \u001b[38;5;124;03m    importing a subclass in a super class is bad\u001b[39;00m\n\u001b[1;32m    231\u001b[0m \u001b[38;5;124;03m\"\"\"\u001b[39;00m\n\u001b[1;32m    232\u001b[0m \u001b[38;5;28;01mif\u001b[39;00m \u001b[38;5;129;01mnot\u001b[39;00m \u001b[38;5;28misinstance\u001b[39m(\u001b[38;5;28mself\u001b[39m, (ConnectMessage, DbOpenMessage)) \\\n\u001b[1;32m    233\u001b[0m         \u001b[38;5;129;01mand\u001b[39;00m \u001b[38;5;28mself\u001b[39m\u001b[38;5;241m.\u001b[39m_request_token \u001b[38;5;129;01mis\u001b[39;00m \u001b[38;5;28;01mTrue\u001b[39;00m:\n\u001b[0;32m--> 234\u001b[0m     token_refresh \u001b[38;5;241m=\u001b[39m \u001b[38;5;28mself\u001b[39m\u001b[38;5;241m.\u001b[39m_decode_field(FIELD_STRING)\n\u001b[1;32m    235\u001b[0m     \u001b[38;5;28;01mif\u001b[39;00m token_refresh \u001b[38;5;241m!=\u001b[39m \u001b[38;5;124mb\u001b[39m\u001b[38;5;124m'\u001b[39m\u001b[38;5;124m'\u001b[39m:\n\u001b[1;32m    236\u001b[0m         \u001b[38;5;28mself\u001b[39m\u001b[38;5;241m.\u001b[39m_auth_token \u001b[38;5;241m=\u001b[39m token_refresh\n",
      "File \u001b[0;32m~/anaconda3/lib/python3.11/site-packages/pyorient/messages/base.py:366\u001b[0m, in \u001b[0;36mBaseMessage._decode_field\u001b[0;34m(self, _type)\u001b[0m\n\u001b[1;32m    364\u001b[0m     _decoded_string \u001b[38;5;241m=\u001b[39m \u001b[38;5;124mb\u001b[39m\u001b[38;5;124m'\u001b[39m\u001b[38;5;124m'\u001b[39m\n\u001b[1;32m    365\u001b[0m \u001b[38;5;28;01melse\u001b[39;00m:\n\u001b[0;32m--> 366\u001b[0m     _decoded_string \u001b[38;5;241m=\u001b[39m \u001b[38;5;28mself\u001b[39m\u001b[38;5;241m.\u001b[39m_orientSocket\u001b[38;5;241m.\u001b[39mread( _len )\n\u001b[1;32m    368\u001b[0m \u001b[38;5;28mself\u001b[39m\u001b[38;5;241m.\u001b[39m_input_buffer \u001b[38;5;241m+\u001b[39m\u001b[38;5;241m=\u001b[39m _value\n\u001b[1;32m    369\u001b[0m \u001b[38;5;28mself\u001b[39m\u001b[38;5;241m.\u001b[39m_input_buffer \u001b[38;5;241m+\u001b[39m\u001b[38;5;241m=\u001b[39m _decoded_string\n",
      "File \u001b[0;32m~/anaconda3/lib/python3.11/site-packages/pyorient/orient.py:169\u001b[0m, in \u001b[0;36mOrientSocket.read\u001b[0;34m(self, _len_to_read)\u001b[0m\n\u001b[1;32m    167\u001b[0m view \u001b[38;5;241m=\u001b[39m \u001b[38;5;28mmemoryview\u001b[39m(buf)\n\u001b[1;32m    168\u001b[0m \u001b[38;5;28;01mwhile\u001b[39;00m _len_to_read:\n\u001b[0;32m--> 169\u001b[0m     n_bytes \u001b[38;5;241m=\u001b[39m \u001b[38;5;28mself\u001b[39m\u001b[38;5;241m.\u001b[39m_socket\u001b[38;5;241m.\u001b[39mrecv_into(view, _len_to_read)\n\u001b[1;32m    170\u001b[0m     \u001b[38;5;28;01mif\u001b[39;00m \u001b[38;5;129;01mnot\u001b[39;00m n_bytes:\n\u001b[1;32m    171\u001b[0m         \u001b[38;5;28mself\u001b[39m\u001b[38;5;241m.\u001b[39m_socket\u001b[38;5;241m.\u001b[39mclose()\n",
      "\u001b[0;31mTimeoutError\u001b[0m: timed out"
     ]
    }
   ],
   "source": [
    "client.command(\"create class Aeropuertos extends V\") #Tira error pero sin embargo se creo en el localhost"
   ]
  },
  {
   "cell_type": "code",
   "execution_count": 7,
   "id": "7f724b62",
   "metadata": {},
   "outputs": [
    {
     "data": {
      "text/plain": [
       "[<pyorient.otypes.OrientRecord at 0x106881550>]"
      ]
     },
     "execution_count": 7,
     "metadata": {},
     "output_type": "execute_result"
    }
   ],
   "source": [
    "client.command(\"insert into Aeropuertos set name = 'SJO', telefono = '506'\")"
   ]
  },
  {
   "cell_type": "code",
   "execution_count": null,
   "id": "4030825b",
   "metadata": {},
   "outputs": [],
   "source": []
  }
 ],
 "metadata": {
  "kernelspec": {
   "display_name": "Python 3 (ipykernel)",
   "language": "python",
   "name": "python3"
  },
  "language_info": {
   "codemirror_mode": {
    "name": "ipython",
    "version": 3
   },
   "file_extension": ".py",
   "mimetype": "text/x-python",
   "name": "python",
   "nbconvert_exporter": "python",
   "pygments_lexer": "ipython3",
   "version": "3.11.5"
  }
 },
 "nbformat": 4,
 "nbformat_minor": 5
}
